{
 "cells": [
  {
   "cell_type": "markdown",
   "metadata": {},
   "source": [
    "e.g.: Import the dataset with `mongoimport --type csv -d breweries -c locations --headerline --drop cleaned_data.csv`"
   ]
  },
  {
   "cell_type": "code",
   "execution_count": 45,
   "metadata": {},
   "outputs": [],
   "source": [
    "from pymongo import MongoClient\n",
    "from pprint import pprint\n",
    "import pandas as pd\n",
    "from bson.json_util import dumps "
   ]
  },
  {
   "cell_type": "code",
   "execution_count": 46,
   "metadata": {},
   "outputs": [],
   "source": [
    "mongo = MongoClient(port=27017)"
   ]
  },
  {
   "cell_type": "code",
   "execution_count": 47,
   "metadata": {},
   "outputs": [
    {
     "data": {
      "text/plain": [
       "['admin',\n",
       " 'breweries',\n",
       " 'canadian_geese',\n",
       " 'classDB',\n",
       " 'config',\n",
       " 'gardenDB',\n",
       " 'local',\n",
       " 'module12challenge',\n",
       " 'mynewDB',\n",
       " 'uk_food']"
      ]
     },
     "execution_count": 47,
     "metadata": {},
     "output_type": "execute_result"
    }
   ],
   "source": [
    "# Checking our 'breweries' database\n",
    "mongo.list_database_names()"
   ]
  },
  {
   "cell_type": "code",
   "execution_count": 48,
   "metadata": {},
   "outputs": [],
   "source": [
    "db = mongo['breweries']"
   ]
  },
  {
   "cell_type": "code",
   "execution_count": 49,
   "metadata": {},
   "outputs": [
    {
     "data": {
      "text/plain": [
       "['locations']"
      ]
     },
     "execution_count": 49,
     "metadata": {},
     "output_type": "execute_result"
    }
   ],
   "source": [
    "db.list_collection_names()"
   ]
  },
  {
   "cell_type": "code",
   "execution_count": 50,
   "metadata": {},
   "outputs": [
    {
     "data": {
      "text/plain": [
       "{'_id': ObjectId('651379909a4371888524a58b'),\n",
       " 'id': 'ef970757-fe42-416f-931d-722451f1f59c',\n",
       " 'name': '10 Barrel Brewing Co',\n",
       " 'brewery_type': 'large',\n",
       " 'address_1': '1501 E St',\n",
       " 'address_2': '',\n",
       " 'address_3': '',\n",
       " 'city': 'San Diego',\n",
       " 'state_province': 'California',\n",
       " 'postal_code': '92101-6618',\n",
       " 'country': 'United States',\n",
       " 'phone': 6195782311,\n",
       " 'website_url': 'http://10barrel.com',\n",
       " 'longitude': -117.129593,\n",
       " 'latitude': 32.714813}"
      ]
     },
     "execution_count": 50,
     "metadata": {},
     "output_type": "execute_result"
    }
   ],
   "source": [
    "# Check our data\n",
    "db.locations.find_one()"
   ]
  },
  {
   "cell_type": "code",
   "execution_count": 51,
   "metadata": {},
   "outputs": [],
   "source": [
    "locations = db['locations']"
   ]
  },
  {
   "cell_type": "code",
   "execution_count": 52,
   "metadata": {},
   "outputs": [
    {
     "data": {
      "text/plain": [
       "7941"
      ]
     },
     "execution_count": 52,
     "metadata": {},
     "output_type": "execute_result"
    }
   ],
   "source": [
    "locations.count_documents({'country':'United States'})"
   ]
  },
  {
   "cell_type": "code",
   "execution_count": 53,
   "metadata": {},
   "outputs": [],
   "source": [
    "# Using dumps we can export our data as a useable JSON\n",
    "cursor = locations.find()\n",
    "list_cur = list(cursor)\n",
    "json_data = dumps(list_cur)"
   ]
  },
  {
   "cell_type": "code",
   "execution_count": 42,
   "metadata": {},
   "outputs": [],
   "source": [
    "with open('data.json', 'w') as file:\n",
    "    file.write(json_data)"
   ]
  },
  {
   "cell_type": "code",
   "execution_count": null,
   "metadata": {},
   "outputs": [],
   "source": []
  }
 ],
 "metadata": {
  "kernelspec": {
   "display_name": "dev",
   "language": "python",
   "name": "python3"
  },
  "language_info": {
   "codemirror_mode": {
    "name": "ipython",
    "version": 3
   },
   "file_extension": ".py",
   "mimetype": "text/x-python",
   "name": "python",
   "nbconvert_exporter": "python",
   "pygments_lexer": "ipython3",
   "version": "3.10.11"
  },
  "orig_nbformat": 4
 },
 "nbformat": 4,
 "nbformat_minor": 2
}
